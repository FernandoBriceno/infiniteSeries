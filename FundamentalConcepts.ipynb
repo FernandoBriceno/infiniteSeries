{
 "cells": [
  {
   "cell_type": "markdown",
   "metadata": {},
   "source": [
    "# <center> **SERIES INFINITAS**</center>\n",
    "\n",
    "## **Conceptos fundamentales.**\n",
    "\n",
    "Se puede entender como series infinitas a la suma de infinitos números reales. Para comenzar podemos aproximarnos a las series infinitas entendiendo las sumas parciales. A continuación un ejemplo de una suma finita de los términos $x_1, x_2,..., x_n$\n",
    "\n",
    "<center>\n",
    "\n",
    "### $S_n = \\sum_{i=1}^{n}u_i$\n",
    "\n",
    "</center>\n",
    "\n",
    "#### **Ej.** \n",
    "$S = \\sum_{x=1}^{n}\\frac{1}{x}$\n",
    "\n",
    "\n",
    "\n"
   ]
  },
  {
   "cell_type": "code",
   "execution_count": 5,
   "metadata": {},
   "outputs": [
    {
     "name": "stdout",
     "output_type": "stream",
     "text": [
      "S = + 1/1 + 1/2 + 1/3 + 1/4 + 1/5 =  2.283333333333333\n"
     ]
    }
   ],
   "source": [
    "n = int(input(\"Ingrese el límite n de la serie: \"))\n",
    "\n",
    "sum = 0\n",
    "print(\"S = \", end=\"\")\n",
    "for x in range(1, n+1):\n",
    "    print(f\"+ 1/{x}\", end=\" \")\n",
    "    sum+=(1/x)\n",
    "print(\"= \", sum)\n"
   ]
  },
  {
   "cell_type": "markdown",
   "metadata": {},
   "source": [
    "## Divergencia de sumas parciales\n",
    "\n",
    "Usando inducción matemática podemos deducir el resultado de algunas sumas dependiendo de su n-limite, tal es el caso de la suma de números enteros positivos:\n"
   ]
  },
  {
   "cell_type": "markdown",
   "metadata": {},
   "source": [
    "<center>\n",
    "\n",
    "### $S_n = \\sum_{x=1}^{n}x= \\frac{n}{2}(n+1)$\n",
    "\n",
    "</center>"
   ]
  },
  {
   "cell_type": "code",
   "execution_count": 18,
   "metadata": {},
   "outputs": [
    {
     "name": "stdout",
     "output_type": "stream",
     "text": [
      "S = + 1 + 2 + 3 + 4 + 5 =  15\n",
      "S = (5/2)*(5+1) = 15.0\n"
     ]
    }
   ],
   "source": [
    "n = int(input(\"Ingrese n = \"))\n",
    "sum = 0\n",
    "print(\"S = \", end=\"\")\n",
    "\n",
    "for x in range(1, n+1):\n",
    "    print(f\"+ {x}\", end=\" \")\n",
    "    sum+= x\n",
    "\n",
    "print(\"= \", sum)\n",
    "\n",
    "operacion = (n/2)*(n+1)\n",
    "print(f\"S = ({n}/2)*({n}+1) = {operacion}\")"
   ]
  },
  {
   "cell_type": "markdown",
   "metadata": {},
   "source": [
    "Cuando extendemos la suma hasta $n\\rightarrow \\infty $ la serie deja de ser *parcial* o *finita* y pasa a ser una ***Serie Infinita***, entonces podemos determinar dos típos de comportamiento de la serie:\n",
    "\n",
    "1. **Serie convergente:** Cuando el límite de la serie hacia el infinito da como resultado un valor concreto,  se puede decir que la serie converge:\n",
    "<center>\n",
    "\n",
    "$\\lim_{n \\to \\infty }s_n = S $\n",
    "</center>\n",
    "\n",
    "2. **Serie divergente:** Por otro lado, cuando al aplicar el límite la serie va hacia $\\pm \\infty $ entonces se dice que la serie diverge:\n",
    "\n",
    "<center>\n",
    "\n",
    "$\\lim_{n \\to \\infty }s_n = \\pm \\infty$  \n",
    "</center>\n"
   ]
  },
  {
   "cell_type": "markdown",
   "metadata": {},
   "source": [
    "## Series Geométricas.\n",
    "\n",
    "Se caracterizan porque la razon entre los terminos sucesivos permanece constante y tienen la forma\n",
    "\n",
    "<center>\n",
    "\n",
    "### $S_n = \\sum_{n=1}^{\\infty} ar^{n-1} = a + ar + ar^2+ar^3+...+ar^{n-1}+...$\n",
    "\n",
    "</center>\n",
    "\n",
    "Por definición las seriies geométricas infinitas convergen para $\\left | r \\right | < 1$ y diverge para $\\left | r \\right | > 1$\n",
    "\n",
    "<center>\n",
    "\n",
    "### $a\\sum_{n=1}^{\\infty} r^{n-1} = \\left\\{\\begin{matrix}\\frac{a}{1-r},&\\left | r \\right | < 1 \\\\ \\infty,& \\left | r \\right | > 1\\end{matrix}\\right.$\n",
    "\n",
    "</center>\n",
    "\n",
    "Una aplicación que se le puede dar a este tipo de series es por ejemplo el determinar los decimales períodicos en términos de números racionales:\n",
    "\n",
    "$\\mathbf{1,11...}=1+10^{-1}+10^{-2}+...= \\frac{1}{1-10^{-1}}= \\mathbf{\\frac{10}{9}}$\n",
    "\n"
   ]
  },
  {
   "cell_type": "markdown",
   "metadata": {},
   "source": [
    "### Ej. Serie Geométrica Convergente:\n",
    "\n",
    "$s_n = \\sum_{k = 0}^{n }8\\left ( \\frac{1}{3} \\right )^{k}, \\, \\, \\lim_{n \\to \\infty }s_n = 12$\n"
   ]
  },
  {
   "cell_type": "code",
   "execution_count": 17,
   "metadata": {},
   "outputs": [
    {
     "name": "stdout",
     "output_type": "stream",
     "text": [
      "S(5) =  11.950617283950617\n",
      "S(10) =  11.9997967789463\n",
      "S(100) =  12.0\n",
      "\n",
      " Rápidamente la serie se aproxima a 12, debido a que los elementos a_k se aproximan rápidamente a 0\n"
     ]
    }
   ],
   "source": [
    "suma = 0\n",
    "for k in range(0,5):\n",
    "    suma +=  8*((1/3)**k)\n",
    "print(\"S(5) = \", suma)\n",
    "\n",
    "suma = 0\n",
    "for k in range(0,10):\n",
    "    suma +=  8*((1/3)**k)\n",
    "print(\"S(10) = \", suma)\n",
    "\n",
    "suma = 0\n",
    "for k in range(0,100):\n",
    "    suma +=  8*((1/3)**k)\n",
    "print(\"S(100) = \", suma)\n",
    "print(\"\\n Rápidamente la serie se aproxima a 12, debido a que los elementos a_k se aproximan rápidamente a 0\")"
   ]
  },
  {
   "cell_type": "markdown",
   "metadata": {},
   "source": [
    "### Ej. Serie Geométrica Divergente:\n",
    "$s_n = \\sum_{k = 0}^{n }8\\left ( 3 \\right )^{k}, \\, \\, \\lim_{n \\to \\infty }s_n = \\infty$"
   ]
  },
  {
   "cell_type": "code",
   "execution_count": 16,
   "metadata": {},
   "outputs": [
    {
     "name": "stdout",
     "output_type": "stream",
     "text": [
      "S(5) =  968\n",
      "S(10) =  236192\n",
      "S(100) =  2061510082928045324145844519062485090808430088000\n",
      "\n",
      " Rápidamente la serie se aproxima a infinito, debido a que los elementos a_k crecen de forma exponencial.\n"
     ]
    }
   ],
   "source": [
    "suma = 0\n",
    "for k in range(0,5):\n",
    "    suma +=  8*(3**k)\n",
    "print(\"S(5) = \", suma)\n",
    "\n",
    "suma = 0\n",
    "for k in range(0,10):\n",
    "    suma +=  8*(3**k)\n",
    "print(\"S(10) = \", suma)\n",
    "\n",
    "suma = 0\n",
    "for k in range(0,100):\n",
    "    suma +=  8*(3**k)\n",
    "print(\"S(100) = \", suma)\n",
    "\n",
    "print(\"\\n Rápidamente la serie se aproxima a infinito, debido a que los elementos a_k crecen de forma exponencial.\")"
   ]
  },
  {
   "cell_type": "markdown",
   "metadata": {},
   "source": []
  }
 ],
 "metadata": {
  "interpreter": {
   "hash": "f9a665eed82786d1db64405b5cfd0f8037f4571b806793cb1072a84e044fc7ff"
  },
  "kernelspec": {
   "display_name": "Python 3.9.6 64-bit",
   "language": "python",
   "name": "python3"
  },
  "language_info": {
   "codemirror_mode": {
    "name": "ipython",
    "version": 3
   },
   "file_extension": ".py",
   "mimetype": "text/x-python",
   "name": "python",
   "nbconvert_exporter": "python",
   "pygments_lexer": "ipython3",
   "version": "3.9.6"
  },
  "orig_nbformat": 4
 },
 "nbformat": 4,
 "nbformat_minor": 2
}
